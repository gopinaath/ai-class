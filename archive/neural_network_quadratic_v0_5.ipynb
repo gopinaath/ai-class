{
 "cells": [
  {
   "cell_type": "markdown",
   "metadata": {},
   "source": [
    "# Neural Networks: Learn a Quadratic Relationship\n",
    "\n",
    "We will teach a small neural network to approximate a quadratic function of two inputs.\n",
    "\n",
    "Steps:\n",
    "- Setup (import libraries)\n",
    "- Define the target quadratic function\n",
    "- Build a small non-linear model\n",
    "- Train the model\n",
    "- Evaluate with test cases\n"
   ]
  },
  {
   "cell_type": "code",
   "execution_count": 1,
   "metadata": {},
   "outputs": [
    {
     "name": "stdout",
     "output_type": "stream",
     "text": [
      "2.8.0\n"
     ]
    }
   ],
   "source": [
    "import torch\n",
    "from torch import nn\n",
    "import random\n",
    "import matplotlib.pyplot as plt\n",
    "print(torch.__version__)\n"
   ]
  },
  {
   "cell_type": "markdown",
   "metadata": {},
   "source": [
    "## Define the target quadratic function\n",
    "We'll use `f(a, b) = 2a^2 + 3b + 1`.\n"
   ]
  },
  {
   "cell_type": "code",
   "execution_count": 2,
   "metadata": {},
   "outputs": [],
   "source": [
    "def mystery(a, b):\n",
    "    # f(a, b) = 2a^2 + 3b + 1\n",
    "    return torch.tensor(2*a*a + 3*b + 1)\n"
   ]
  },
  {
   "cell_type": "code",
   "execution_count": 3,
   "metadata": {},
   "outputs": [
    {
     "data": {
      "text/plain": [
       "Sequential(\n",
       "  (0): Linear(in_features=2, out_features=20, bias=True)\n",
       "  (1): ReLU()\n",
       "  (2): Linear(in_features=20, out_features=20, bias=True)\n",
       "  (3): ReLU()\n",
       "  (4): Linear(in_features=20, out_features=10, bias=True)\n",
       "  (5): ReLU()\n",
       "  (6): Linear(in_features=10, out_features=1, bias=True)\n",
       ")"
      ]
     },
     "execution_count": 3,
     "metadata": {},
     "output_type": "execute_result"
    }
   ],
   "source": [
    "model = nn.Sequential(\n",
    "    nn.Linear(2, 20),\n",
    "    nn.ReLU(),\n",
    "    nn.Linear(20, 20),\n",
    "    nn.ReLU(),\n",
    "    nn.Linear(20, 10),\n",
    "    nn.ReLU(),\n",
    "    nn.Linear(10, 1)\n",
    ")\n",
    "model\n"
   ]
  },
  {
   "cell_type": "markdown",
   "metadata": {},
   "source": [
    "## Train the model\n",
    "We sample `(a, b)` from [-2, 2] and optimize with Adam.\n"
   ]
  },
  {
   "cell_type": "code",
   "execution_count": 4,
   "metadata": {},
   "outputs": [
    {
     "name": "stdout",
     "output_type": "stream",
     "text": [
      "Loss: 92.743935\n",
      "Loss: 0.341850\n",
      "Loss: 0.042000\n",
      "Loss: 0.002639\n",
      "Loss: 0.000491\n",
      "Loss: 0.059140\n",
      "Loss: 0.000427\n",
      "Loss: 0.001450\n",
      "Loss: 0.010137\n",
      "Loss: 0.007131\n",
      "Loss: 0.014605\n",
      "Loss: 0.018600\n",
      "Loss: 0.003273\n",
      "Loss: 0.000972\n",
      "Loss: 0.030490\n",
      "Loss: 0.000035\n",
      "Loss: 0.017463\n",
      "Loss: 0.005553\n",
      "Loss: 0.000118\n",
      "Loss: 0.002029\n"
     ]
    }
   ],
   "source": [
    "criterion = nn.MSELoss()\n",
    "optimizer = torch.optim.Adam(model.parameters(), lr=0.001)\n",
    "loss_history = []\n",
    "\n",
    "for i in range(100000):\n",
    "    a = random.uniform(-2, 2)\n",
    "    b = random.uniform(-2, 2)\n",
    "    desired = mystery(a, b)\n",
    "\n",
    "    output = model(torch.tensor([a, b], dtype=torch.float32))\n",
    "    loss = criterion(output.squeeze(), desired)\n",
    "    loss_history.append(loss.item())\n",
    "\n",
    "    if i % 5000 == 0:\n",
    "        print(f\"Loss: {loss.item():.6f}\")\n",
    "\n",
    "    optimizer.zero_grad()\n",
    "    loss.backward()\n",
    "    optimizer.step()\n"
   ]
  },
  {
   "cell_type": "code",
   "execution_count": 5,
   "metadata": {},
   "outputs": [
    {
     "data": {
      "image/png": "[encoded data removed]",
      "text/plain": [
       "<Figure size 600x400 with 1 Axes>"
      ]
     },
     "metadata": {},
     "output_type": "display_data"
    }
   ],
   "source": [
    "plt.figure(figsize=(6,4))\n",
    "plt.plot(loss_history)\n",
    "plt.title('Training Loss')\n",
    "plt.xlabel('Step')\n",
    "plt.ylabel('MSE Loss')\n",
    "plt.grid(True)\n",
    "plt.show()\n"
   ]
  },
  {
   "cell_type": "markdown",
   "metadata": {},
   "source": [
    "## Evaluate on sample inputs\n"
   ]
  },
  {
   "cell_type": "code",
   "execution_count": 6,
   "metadata": {},
   "outputs": [
    {
     "name": "stdout",
     "output_type": "stream",
     "text": [
      "\n",
      "Testing the trained neural network:\n",
      "Input (a, b) | Neural Network Output | Expected Output | Error\n",
      "------------------------------------------------------------\n",
      "( 1.0,  1.0)    |        5.933702 |      6.000000 | 0.066298\n",
      "( 2.0, -1.0)    |        6.035359 |      6.000000 | 0.035359\n",
      "( 0.5,  0.5)    |        3.053474 |      3.000000 | 0.053474\n",
      "(-1.0,  2.0)    |        8.950799 |      9.000000 | 0.049201\n",
      "\n",
      "Final test - Input (1.0, 1.0):\n",
      "Neural Network Output: 5.933701992034912\n",
      "Expected Output: 6.0\n"
     ]
    }
   ],
   "source": [
    "test_cases = [(1.0, 1.0), (2.0, -1.0), (0.5, 0.5), (-1.0, 2.0)]\n",
    "\n",
    "print(\"\\nTesting the trained neural network:\")\n",
    "print(\"Input (a, b) | Neural Network Output | Expected Output | Error\")\n",
    "print(\"-\" * 60)\n",
    "\n",
    "for a, b in test_cases:\n",
    "    output = model(torch.tensor([a, b], dtype=torch.float32))\n",
    "    expected = mystery(a, b)\n",
    "    error = abs(output.item() - expected.item())\n",
    "    print(f\"({a:4.1f}, {b:4.1f})    | {output.item():15.6f} | {expected.item():13.6f} | {error:.6f}\")\n",
    "\n",
    "print(f\"\\nFinal test - Input (1.0, 1.0):\")\n",
    "print(f\"Neural Network Output: {model(torch.tensor([1.0, 1.0], dtype=torch.float32)).item()}\")\n",
    "print(f\"Expected Output: {mystery(1.0, 1.0).item()}\")\n"
   ]
  },
  {
   "cell_type": "markdown",
   "metadata": {},
   "source": [
    "## Build a non-linear model\n",
    "We use a few layers with ReLU activation to learn non-linear patterns.\n"
   ]
  }
 ],
 "metadata": {
  "kernelspec": {
   "display_name": "Python 3 (ipykernel)",
   "language": "python",
   "name": "python3"
  },
  "language_info": {
   "codemirror_mode": {
    "name": "ipython",
    "version": 3
   },
   "file_extension": ".py",
   "mimetype": "text/x-python",
   "name": "python",
   "nbconvert_exporter": "python",
   "pygments_lexer": "ipython3",
   "version": "3.13.2"
  }
 },
 "nbformat": 4,
 "nbformat_minor": 4
}
