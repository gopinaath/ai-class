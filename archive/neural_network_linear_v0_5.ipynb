{
  "cells": [
    {
      "cell_type": "markdown",
      "metadata": {},
      "source": [
        "# Neural Networks: Learn a Linear Function\n",
        "\n",
        "This notebook teaches a small neural network to learn the linear function f(a, b) = 3a + 4b.\n",
        "\n",
        "We'll go step by step:\n",
        "- Setup (import libraries)\n",
        "- Define the target function\n",
        "- Build a simple model\n",
        "- Train the model\n",
        "- Test with a few examples\n"
      ]
    },
    {
      "cell_type": "code",
      "execution_count": null,
      "metadata": {},
      "outputs": [],
      "source": [
        "import torch\n",
        "from torch import nn\n",
        "import random\n",
        "import matplotlib.pyplot as plt\n",
        "print(torch.__version__)\n"
      ]
    },
    {
      "cell_type": "markdown",
      "metadata": {},
      "source": [
        "## Define the target function\n",
        "Our goal is to learn `f(a, b) = 3a + 4b`.\n"
      ]
    },
    {
      "cell_type": "code",
      "execution_count": null,
      "metadata": {},
      "outputs": [],
      "source": [
        "def mystery(a, b):\n",
        "    return torch.tensor(3*a + 4*b)\n"
      ]
    },
    {
      "cell_type": "markdown",
      "metadata": {},
      "source": [
        "## Build a simple model\n",
        "A single linear layer can represent any linear function.\n"
      ]
    },
    {
      "cell_type": "code",
      "execution_count": null,
      "metadata": {},
      "outputs": [],
      "source": [
        "model = nn.Sequential(nn.Linear(2, 1))\n",
        "model\n"
      ]
    },
    {
      "cell_type": "markdown",
      "metadata": {},
      "source": [
        "## Train the model\n",
        "We will sample random `(a, b)` pairs and train the network to predict `mystery(a,b)`.\n"
      ]
    },
    {
      "cell_type": "code",
      "execution_count": null,
      "metadata": {},
      "outputs": [],
      "source": [
        "criterion = nn.MSELoss()\n",
        "optimizer = torch.optim.SGD(model.parameters(), lr=0.01, momentum=0.9)\n",
        "loss_history = []\n",
        "\n",
        "for i in range(20000):\n",
        "    a = random.random()\n",
        "    b = random.random()\n",
        "    desired = mystery(a, b)\n",
        "\n",
        "    output = model(torch.tensor([a, b]))\n",
        "    loss = criterion(output.squeeze(), desired)\n",
        "    loss_history.append(loss.item())\n",
        "\n",
        "    if i % 1000 == 0:\n",
        "        print(f\"Loss: {loss.item():.6f}\")\n",
        "\n",
        "    optimizer.zero_grad()\n",
        "    loss.backward()\n",
        "    optimizer.step()\n"
      ]
    },
    {
      "cell_type": "code",
      "execution_count": null,
      "metadata": {},
      "outputs": [],
      "source": [
        "plt.figure(figsize=(6,4))\n",
        "plt.plot(loss_history)\n",
        "plt.title('Training Loss')\n",
        "plt.xlabel('Step')\n",
        "plt.ylabel('MSE Loss')\n",
        "plt.grid(True)\n",
        "plt.show()\n"
      ]
    },
    {
      "cell_type": "markdown",
      "metadata": {},
      "source": [
        "## Test the model\n"
      ]
    },
    {
      "cell_type": "code",
      "execution_count": null,
      "metadata": {},
      "outputs": [],
      "source": [
        "a, b = 1.0, -1.0\n",
        "pred = model(torch.tensor([a, b]))\n",
        "print('Model prediction:', pred.item())\n",
        "print('Expected:', mystery(a, b).item())\n"
      ]
    }
  ],
  "metadata": {
    "language_info": {
      "name": "python"
    }
  },
  "nbformat": 4,
  "nbformat_minor": 2
}
