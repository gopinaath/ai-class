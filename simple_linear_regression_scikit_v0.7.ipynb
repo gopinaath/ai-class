{
 "cells": [
  {
   "cell_type": "markdown",
   "metadata": {},
   "source": [
    "# Linear Regression with Scikit-Learn\n",
    "\n",
    "This notebook demonstrates linear regression using scikit-learn with a pre-generated CSV dataset.\n",
    "\n",
    "We'll:\n",
    "- Load training and test datasets from CSV files\n",
    "- Build a linear regression model\n",
    "- Train using the dataset\n",
    "- Evaluate performance\n",
    "- Visualize results"
   ]
  },
  {
   "cell_type": "code",
   "execution_count": null,
   "metadata": {},
   "outputs": [],
   "source": [
    "import numpy as np\n",
    "import pandas as pd\n",
    "import matplotlib.pyplot as plt\n",
    "from sklearn.linear_model import LinearRegression\n",
    "from sklearn.metrics import mean_squared_error, r2_score\n",
    "import requests\n",
    "import io\n",
    "\n",
    "print(f\"NumPy version: {np.__version__}\")\n",
    "print(f\"Pandas version: {pd.__version__}\")\n",
    "import sklearn\n",
    "print(f\"Scikit-learn version: {sklearn.__version__}\")"
   ]
  },
  {
   "cell_type": "markdown",
   "metadata": {},
   "source": [
    "## Load the dataset from GitHub"
   ]
  },
  {
   "cell_type": "code",
   "execution_count": null,
   "metadata": {},
   "outputs": [],
   "source": [
    "# GitHub repository URLs for the CSV files\n",
    "github_base_url = \"https://raw.githubusercontent.com/gopinaath/ai-class/main/\"\n",
    "train_url = github_base_url + \"linear_train.csv\"\n",
    "test_url = github_base_url + \"linear_test.csv\"\n",
    "\n",
    "print(\"Loading datasets from GitHub repository...\")\n",
    "print(f\"Training data URL: {train_url}\")\n",
    "print(f\"Test data URL: {test_url}\")\n",
    "\n",
    "try:\n",
    "    # Download and load training data\n",
    "    train_response = requests.get(train_url)\n",
    "    train_response.raise_for_status()  # Raise an exception for bad status codes\n",
    "    train_df = pd.read_csv(io.StringIO(train_response.text))\n",
    "\n",
    "    # Download and load test data\n",
    "    test_response = requests.get(test_url)\n",
    "    test_response.raise_for_status()\n",
    "    test_df = pd.read_csv(io.StringIO(test_response.text))\n",
    "\n",
    "    print(\"✅ Datasets loaded successfully from GitHub!\")\n",
    "    \n",
    "except Exception as e:\n",
    "    print(f\"❌ Failed to load from GitHub: {e}\")"
   ]
  },
  {
   "cell_type": "markdown",
   "metadata": {},
   "source": [
    "## Exploratory Data Analysis\n",
    "Let's explore our dataset to understand what we're working with."
   ]
  },
  {
   "cell_type": "code",
   "execution_count": null,
   "metadata": {},
   "outputs": [],
   "source": [
    "# Prepare data for scikit-learn\n",
    "X_train = train_df[['a', 'b']].values\n",
    "y_train = train_df['target'].values\n",
    "X_test = test_df[['a', 'b']].values\n",
    "y_test = test_df['target'].values\n",
    "\n",
    "print(f\"Training data shape: X={X_train.shape}, y={y_train.shape}\")\n",
    "print(f\"Test data shape: X={X_test.shape}, y={y_test.shape}\")\n",
    "print(f\"\\nFirst few training examples:\")\n",
    "print(train_df.head())"
   ]
  },
  {
   "cell_type": "code",
   "execution_count": null,
   "metadata": {},
   "outputs": [],
   "source": [
    "# Basic statistics\n",
    "print(\"=== Dataset Overview ===\")\n",
    "print(f\"Training samples: {len(train_df)}\")\n",
    "print(f\"Test samples: {len(test_df)}\")\n",
    "print(f\"Features: {list(train_df.columns[:-1])}\")  # All columns except 'target'\n",
    "print(f\"Target: {train_df.columns[-1]}\")\n",
    "\n",
    "print(\"\\n=== Training Data Statistics ===\")\n",
    "print(train_df.describe())\n",
    "\n",
    "print(\"\\n=== Test Data Statistics ===\")\n",
    "print(test_df.describe())\n",
    "\n",
    "print(\"\\n=== Correlation Matrix ===\")\n",
    "print(train_df.corr())"
   ]
  },
  {
   "cell_type": "code",
   "execution_count": null,
   "metadata": {},
   "outputs": [],
   "source": [
    "# Visualize the data\n",
    "fig, axes = plt.subplots(2, 2, figsize=(12, 10))\n",
    "\n",
    "# 1. Distribution of inputs\n",
    "axes[0, 0].hist(train_df['a'], bins=30, alpha=0.7, label='a', color='blue')\n",
    "axes[0, 0].hist(train_df['b'], bins=30, alpha=0.7, label='b', color='red')\n",
    "axes[0, 0].set_title('Distribution of Input Features')\n",
    "axes[0, 0].set_xlabel('Value')\n",
    "axes[0, 0].set_ylabel('Frequency')\n",
    "axes[0, 0].legend()\n",
    "axes[0, 0].grid(True, alpha=0.3)\n",
    "\n",
    "# 2. Distribution of target\n",
    "axes[0, 1].hist(train_df['target'], bins=30, alpha=0.7, color='green')\n",
    "axes[0, 1].set_title('Distribution of Target Values')\n",
    "axes[0, 1].set_xlabel('Target Value')\n",
    "axes[0, 1].set_ylabel('Frequency')\n",
    "axes[0, 1].grid(True, alpha=0.3)\n",
    "\n",
    "# 3. Scatter plot: a vs target\n",
    "axes[1, 0].scatter(train_df['a'], train_df['target'], alpha=0.6, s=10)\n",
    "axes[1, 0].set_title('Feature a vs Target')\n",
    "axes[1, 0].set_xlabel('Feature a')\n",
    "axes[1, 0].set_ylabel('Target')\n",
    "axes[1, 0].grid(True, alpha=0.3)\n",
    "\n",
    "# 4. Scatter plot: b vs target\n",
    "axes[1, 1].scatter(train_df['b'], train_df['target'], alpha=0.6, s=10, color='red')\n",
    "axes[1, 1].set_title('Feature b vs Target')\n",
    "axes[1, 1].set_xlabel('Feature b')\n",
    "axes[1, 1].set_ylabel('Target')\n",
    "axes[1, 1].grid(True, alpha=0.3)\n",
    "\n",
    "plt.tight_layout()\n",
    "plt.show()"
   ]
  },
  {
   "cell_type": "markdown",
   "metadata": {},
   "source": [
    "## Key Insights from EDA\n",
    "\n",
    "**What we learned:**\n",
    "- **Input range**: Both `a` and `b` are uniformly distributed between 0 and 1\n",
    "- **Target range**: Target values range from ~0 to ~7 \n",
    "- **Linear relationship**: Clear linear patterns visible in scatter plots\n",
    "- **Correlations**: \n",
    "  - `a` has strong positive correlation with target\n",
    "  - `b` has strong positive correlation with target\n",
    "  \n",
    "- Perfect setup for linear regression\n",
    "- No missing values or outliers\n",
    "- Good range of values for training"
   ]
  },
  {
   "cell_type": "markdown",
   "metadata": {},
   "source": [
    "## Build and Train the Linear Regression Model\n",
    "Using scikit-learn's LinearRegression, which fits using ordinary least squares."
   ]
  },
  {
   "cell_type": "code",
   "execution_count": null,
   "metadata": {},
   "outputs": [],
   "source": [
    "# Create and train the model\n",
    "model = LinearRegression()\n",
    "\n",
    "# Fit the model\n",
    "print(\"Training the linear regression model...\")\n",
    "model.fit(X_train, y_train)\n",
    "print(\"✅ Model training complete!\")\n",
    "\n",
    "# Display model parameters\n",
    "print(f\"\\nLearned parameters:\")\n",
    "print(f\"Coefficients: a={model.coef_[0]:.4f}, b={model.coef_[1]:.4f}\")\n",
    "print(f\"Intercept: {model.intercept_:.4f}\")\n",
    "print(f\"\\nExpected equation: target = 3*a + 4*b + 0\")\n",
    "print(f\"Learned equation: target = {model.coef_[0]:.4f}*a + {model.coef_[1]:.4f}*b + {model.intercept_:.4f}\")"
   ]
  },
  {
   "cell_type": "markdown",
   "metadata": {},
   "source": [
    "## Evaluate the Model"
   ]
  },
  {
   "cell_type": "code",
   "execution_count": null,
   "metadata": {},
   "outputs": [],
   "source": [
    "# Make predictions\n",
    "y_train_pred = model.predict(X_train)\n",
    "y_test_pred = model.predict(X_test)\n",
    "\n",
    "# Calculate metrics\n",
    "train_mse = mean_squared_error(y_train, y_train_pred)\n",
    "test_mse = mean_squared_error(y_test, y_test_pred)\n",
    "train_r2 = r2_score(y_train, y_train_pred)\n",
    "test_r2 = r2_score(y_test, y_test_pred)\n",
    "\n",
    "print(\"=== Model Performance ===\")\n",
    "print(f\"\\nTraining Set:\")\n",
    "print(f\"  MSE: {train_mse:.6f}\")\n",
    "print(f\"  RMSE: {np.sqrt(train_mse):.6f}\")\n",
    "print(f\"  R² Score: {train_r2:.6f}\")\n",
    "\n",
    "print(f\"\\nTest Set:\")\n",
    "print(f\"  MSE: {test_mse:.6f}\")\n",
    "print(f\"  RMSE: {np.sqrt(test_mse):.6f}\")\n",
    "print(f\"  R² Score: {test_r2:.6f}\")"
   ]
  },
  {
   "cell_type": "code",
   "execution_count": null,
   "metadata": {},
   "outputs": [],
   "source": [
    "# Test on specific examples\n",
    "test_cases = [(1.0, 1.0), (2.0, -1.0), (0.5, 0.5), (-1.0, 2.0)]\n",
    "\n",
    "print(\"Testing on specific examples:\")\n",
    "print(\"Input (a, b) | Prediction | Expected | Error\")\n",
    "print(\"-\" * 50)\n",
    "\n",
    "for a, b in test_cases:\n",
    "    pred = model.predict([[a, b]])[0]\n",
    "    expected = 3*a + 4*b  # The actual function\n",
    "    error = abs(pred - expected)\n",
    "    print(f\"({a:4.1f}, {b:4.1f})    | {pred:8.3f} | {expected:7.3f} | {error:.3f}\")"
   ]
  },
  {
   "cell_type": "markdown",
   "metadata": {},
   "source": [
    "## Visualize Model Performance"
   ]
  },
  {
   "cell_type": "code",
   "execution_count": null,
   "metadata": {},
   "outputs": [],
   "source": [
    "# Visualization of predictions vs actual values\n",
    "fig, axes = plt.subplots(2, 2, figsize=(12, 10))\n",
    "\n",
    "# 1. Training Set: Predicted vs Actual\n",
    "axes[0, 0].scatter(y_train, y_train_pred, alpha=0.5, s=10)\n",
    "axes[0, 0].plot([y_train.min(), y_train.max()], [y_train.min(), y_train.max()], 'r--', lw=2)\n",
    "axes[0, 0].set_xlabel('Actual Values')\n",
    "axes[0, 0].set_ylabel('Predicted Values')\n",
    "axes[0, 0].set_title(f'Training Set: Predicted vs Actual (R²={train_r2:.4f})')\n",
    "axes[0, 0].grid(True, alpha=0.3)\n",
    "\n",
    "# 2. Test Set: Predicted vs Actual\n",
    "axes[0, 1].scatter(y_test, y_test_pred, alpha=0.5, s=10, color='green')\n",
    "axes[0, 1].plot([y_test.min(), y_test.max()], [y_test.min(), y_test.max()], 'r--', lw=2)\n",
    "axes[0, 1].set_xlabel('Actual Values')\n",
    "axes[0, 1].set_ylabel('Predicted Values')\n",
    "axes[0, 1].set_title(f'Test Set: Predicted vs Actual (R²={test_r2:.4f})')\n",
    "axes[0, 1].grid(True, alpha=0.3)\n",
    "\n",
    "\n",
    "plt.tight_layout()\n",
    "plt.show()"
   ]
  },
  {
   "cell_type": "markdown",
   "metadata": {},
   "source": [
    "## Summary\n",
    "\n",
    "### Model Performance:\n",
    "- The linear regression model successfully learned the underlying linear relationship\n",
    "- Very high R² scores (close to 1.0) indicate excellent model fit\n",
    "- Low MSE/RMSE values show minimal prediction errors\n",
    "\n",
    "### Key Takeaways:\n",
    "1. **Scikit-learn's LinearRegression** provides a simple, efficient implementation\n",
    "2. **No manual gradient descent** needed - uses closed-form solution\n",
    "3. **Built-in metrics** make evaluation straightforward\n",
    "4. **Perfect for linear relationships** in the data\n"
   ]
  },
  {
   "cell_type": "code",
   "execution_count": null,
   "metadata": {},
   "outputs": [],
   "source": []
  }
 ],
 "metadata": {
  "kernelspec": {
   "display_name": "Python 3 (ipykernel)",
   "language": "python",
   "name": "python3"
  },
  "language_info": {
   "codemirror_mode": {
    "name": "ipython",
    "version": 3
   },
   "file_extension": ".py",
   "mimetype": "text/x-python",
   "name": "python",
   "nbconvert_exporter": "python",
   "pygments_lexer": "ipython3",
   "version": "3.13.2"
  }
 },
 "nbformat": 4,
 "nbformat_minor": 4
}
